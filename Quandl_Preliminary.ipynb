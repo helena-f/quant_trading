{
 "cells": [
  {
   "cell_type": "code",
   "execution_count": 2,
   "id": "ec3efc69",
   "metadata": {},
   "outputs": [],
   "source": [
    "import pandas as pd\n",
    "import quandl as q"
   ]
  },
  {
   "cell_type": "code",
   "execution_count": 4,
   "id": "482be4d8",
   "metadata": {},
   "outputs": [],
   "source": [
    "# set the Quandl API key\n",
    "q.ApiConfig.api_key = \"6fjk7HBao5nb_UzBuKsS\""
   ]
  },
  {
   "cell_type": "code",
   "execution_count": null,
   "id": "a405848e",
   "metadata": {},
   "outputs": [],
   "source": [
    "#send a get request to query Microsoft's end of day stock prices from 1st #Jan, 2010 to 1st Jan, 2019\n",
    "\n",
    "msft_data = q.get(\"EOD/MSFT\", start_date=\"2010-01-01\", end_date=\"2019-01-01\")\n",
    "\n",
    "msft_data.head()\n"
   ]
  }
 ],
 "metadata": {
  "kernelspec": {
   "display_name": "Python 3 (ipykernel)",
   "language": "python",
   "name": "python3"
  },
  "language_info": {
   "codemirror_mode": {
    "name": "ipython",
    "version": 3
   },
   "file_extension": ".py",
   "mimetype": "text/x-python",
   "name": "python",
   "nbconvert_exporter": "python",
   "pygments_lexer": "ipython3",
   "version": "3.9.12"
  }
 },
 "nbformat": 4,
 "nbformat_minor": 5
}
