{
 "cells": [
  {
   "cell_type": "markdown",
   "id": "0767dff8-c26d-4acf-a2f8-7c3901e44b62",
   "metadata": {},
   "source": [
    "# Reinforcement Learning Model for Trading"
   ]
  },
  {
   "cell_type": "markdown",
   "id": "688be892-ec3e-4f2c-979f-f5e735424bfc",
   "metadata": {},
   "source": [
    "## 1. Model Theory and Explanation"
   ]
  },
  {
   "cell_type": "markdown",
   "id": "89eb9850-7b29-41fd-a56f-c629b1e22d9f",
   "metadata": {},
   "source": [
    "agent based unsupervised learning\n"
   ]
  },
  {
   "cell_type": "markdown",
   "id": "74a1d116-9b8c-4f93-8c8c-cff847c2fe1a",
   "metadata": {},
   "source": [
    "## 2. Exploratory Data Analysis"
   ]
  },
  {
   "cell_type": "code",
   "execution_count": 1,
   "id": "3d6d83e4-8bc2-4a3f-8980-3bf8da29feed",
   "metadata": {},
   "outputs": [],
   "source": [
    "\n",
    "# Load libraries\n",
    "import numpy as np\n",
    "import pandas as pd\n",
    "import matplotlib.pyplot as plt\n",
    "from pandas import read_csv, set_option\n",
    "from pandas.plotting import scatter_matrix\n",
    "import seaborn as sns\n",
    "from sklearn.preprocessing import StandardScaler\n",
    "import datetime\n",
    "import math\n",
    "from numpy.random import choice\n",
    "import random\n",
    "\n",
    "from collections import namedtuple, deque\n"
   ]
  },
  {
   "cell_type": "code",
   "execution_count": 2,
   "id": "69204d59-a524-47bf-953e-4590d6c7ff89",
   "metadata": {},
   "outputs": [],
   "source": [
    "#Import Model Packages for reinforcement learning\n",
    "\n",
    "from keras import layers, models, optimizers\n",
    "from keras import backend as K\n",
    "\n",
    "import yfinance as yf\n",
    "from datetime import datetime, timedelta\n"
   ]
  },
  {
   "cell_type": "code",
   "execution_count": 3,
   "id": "ed60f4ca-dff0-46be-a7c4-251601c87cef",
   "metadata": {},
   "outputs": [
    {
     "name": "stdout",
     "output_type": "stream",
     "text": [
      "                                Open       High        Low      Close  \\\n",
      "Date                                                                    \n",
      "2024-12-02 00:00:00-05:00  41.580002  41.700001  40.599998  40.910000   \n",
      "2024-12-03 00:00:00-05:00  41.150002  42.200001  41.099998  41.570000   \n",
      "2024-12-04 00:00:00-05:00  41.500000  41.759998  41.049999  41.410000   \n",
      "2024-12-05 00:00:00-05:00  41.430000  41.599998  40.119999  41.070000   \n",
      "2024-12-06 00:00:00-05:00  41.020000  41.650002  40.779999  41.110001   \n",
      "2024-12-09 00:00:00-05:00  41.900002  42.430000  41.610001  41.730000   \n",
      "2024-12-10 00:00:00-05:00  42.000000  42.110001  41.459999  41.490002   \n",
      "2024-12-11 00:00:00-05:00  41.660000  42.520000  41.439999  42.279999   \n",
      "2024-12-12 00:00:00-05:00  41.619999  42.250000  41.470001  41.560001   \n",
      "2024-12-13 00:00:00-05:00  41.000000  41.090000  40.189999  40.220001   \n",
      "2024-12-16 00:00:00-05:00  40.150002  40.259998  39.740002  40.080002   \n",
      "2024-12-17 00:00:00-05:00  39.459999  40.070000  39.430000  39.799999   \n",
      "2024-12-18 00:00:00-05:00  39.369999  39.570000  37.590000  37.639999   \n",
      "2024-12-19 00:00:00-05:00  37.669998  37.919998  36.939999  37.020000   \n",
      "2024-12-20 00:00:00-05:00  37.250000  38.439999  37.180000  38.279999   \n",
      "2024-12-23 00:00:00-05:00  38.009998  38.259998  37.459999  38.160000   \n",
      "2024-12-24 00:00:00-05:00  38.200001  38.320000  37.869999  38.310001   \n",
      "2024-12-26 00:00:00-05:00  38.310001  38.610001  38.090000  38.090000   \n",
      "2024-12-27 00:00:00-05:00  37.610001  38.220001  37.509998  37.840000   \n",
      "\n",
      "                             Volume  Dividends  Stock Splits  \n",
      "Date                                                          \n",
      "2024-12-02 00:00:00-05:00  12596900        0.0           0.0  \n",
      "2024-12-03 00:00:00-05:00   8717000        0.0           0.0  \n",
      "2024-12-04 00:00:00-05:00   9668200        0.0           0.0  \n",
      "2024-12-05 00:00:00-05:00  10966900        0.0           0.0  \n",
      "2024-12-06 00:00:00-05:00   7751100        0.0           0.0  \n",
      "2024-12-09 00:00:00-05:00  10749000        0.0           0.0  \n",
      "2024-12-10 00:00:00-05:00   7751900        0.0           0.0  \n",
      "2024-12-11 00:00:00-05:00   8464900        0.0           0.0  \n",
      "2024-12-12 00:00:00-05:00   7387200        0.0           0.0  \n",
      "2024-12-13 00:00:00-05:00  11263900        0.0           0.0  \n",
      "2024-12-16 00:00:00-05:00  10069200        0.0           0.0  \n",
      "2024-12-17 00:00:00-05:00  12095800        0.0           0.0  \n",
      "2024-12-18 00:00:00-05:00  16488700        0.0           0.0  \n",
      "2024-12-19 00:00:00-05:00  13794000        0.0           0.0  \n",
      "2024-12-20 00:00:00-05:00  23927000        0.0           0.0  \n",
      "2024-12-23 00:00:00-05:00   8591600        0.0           0.0  \n",
      "2024-12-24 00:00:00-05:00   3549300        0.0           0.0  \n",
      "2024-12-26 00:00:00-05:00   5896400        0.0           0.0  \n",
      "2024-12-27 00:00:00-05:00   5456100        0.0           0.0  \n",
      "(19, 7)\n"
     ]
    }
   ],
   "source": [
    "GetInfo = yf.Ticker(\"NEM\")\n",
    "end_date = datetime.today()\n",
    "start_date = end_date - timedelta(days=30)\n",
    "data = GetInfo.history(start=start_date, end=end_date)\n",
    "print(data)\n",
    "print(data.shape)"
   ]
  },
  {
   "cell_type": "code",
   "execution_count": 4,
   "id": "7d0c7f54-5728-483d-8c21-9cdeef230a16",
   "metadata": {},
   "outputs": [
    {
     "name": "stdout",
     "output_type": "stream",
     "text": [
      "            Open       High        Low      Close        Volume  Dividends  \\\n",
      "count  19.000000  19.000000  19.000000  19.000000  1.900000e+01       19.0   \n",
      "mean   40.046842  40.472631  39.559473  39.924737  1.027290e+07        0.0   \n",
      "std     1.709016   1.712565   1.715221   1.707078  4.505620e+06        0.0   \n",
      "min    37.250000  37.919998  36.939999  37.020000  3.549300e+06        0.0   \n",
      "25%    38.255001  38.525000  37.730000  38.219999  7.751500e+06        0.0   \n",
      "50%    41.000000  41.090000  40.119999  40.220001  9.668200e+06        0.0   \n",
      "75%    41.540001  41.934999  41.074999  41.450001  1.167985e+07        0.0   \n",
      "max    42.000000  42.520000  41.610001  42.279999  2.392700e+07        0.0   \n",
      "\n",
      "       Stock Splits  \n",
      "count          19.0  \n",
      "mean            0.0  \n",
      "std             0.0  \n",
      "min             0.0  \n",
      "25%             0.0  \n",
      "50%             0.0  \n",
      "75%             0.0  \n",
      "max             0.0  \n"
     ]
    }
   ],
   "source": [
    "print(data.describe())"
   ]
  },
  {
   "cell_type": "code",
   "execution_count": 5,
   "id": "f6422e16-e49c-4167-bee5-769659140922",
   "metadata": {},
   "outputs": [
    {
     "data": {
      "text/plain": [
       "<Axes: xlabel='Date'>"
      ]
     },
     "execution_count": 5,
     "metadata": {},
     "output_type": "execute_result"
    },
    {
     "data": {
      "image/png": "[encoded data removed]",
      "text/plain": [
       "<Figure size 640x480 with 1 Axes>"
      ]
     },
     "metadata": {},
     "output_type": "display_data"
    }
   ],
   "source": [
    "data['Close'].plot()"
   ]
  },
  {
   "cell_type": "markdown",
   "id": "4f90a255-1667-4a28-966d-e9796f832f90",
   "metadata": {},
   "source": [
    "## 3. Data Preprocessing"
   ]
  },
  {
   "cell_type": "code",
   "execution_count": 6,
   "id": "5924fcba-5cd3-49e9-a5f1-9b517512e0a7",
   "metadata": {},
   "outputs": [
    {
     "name": "stdout",
     "output_type": "stream",
     "text": [
      "Null Values = False\n"
     ]
    }
   ],
   "source": [
    "print('Null Values =',data.isnull().values.any())"
   ]
  },
  {
   "cell_type": "markdown",
   "id": "df424ca6-0e01-403f-afcb-a8e5446aae73",
   "metadata": {},
   "source": [
    "## 4. Modeling"
   ]
  },
  {
   "cell_type": "code",
   "execution_count": 7,
   "id": "62c57b91-0b38-4f38-9f51-52a25ce1315f",
   "metadata": {},
   "outputs": [],
   "source": [
    "X=list(data[\"Close\"])\n",
    "X=[float(x) for x in X]\n",
    "validation_size = 0.2\n",
    "#In case the data is not dependent on the time series, then train and test split should be done based on sequential sample\n",
    "#This can be done by selecting an arbitrary split point in the ordered list of observations and creating two new datasets.\n",
    "train_size = int(len(X) * (1-validation_size))\n",
    "X_train, X_test = X[0:train_size], X[train_size:len(X)]"
   ]
  },
  {
   "cell_type": "code",
   "execution_count": 8,
   "id": "0e083161-649b-4c59-84cd-a537553ecacd",
   "metadata": {},
   "outputs": [],
   "source": [
    "import keras\n",
    "from keras.models import Sequential\n",
    "from keras.models import load_model\n",
    "from keras.layers import Dense\n",
    "from keras.optimizers import Adam\n",
    "from IPython.core.debugger import set_trace\n",
    "\n",
    "class Agent:\n",
    "    def __init__(self, state_size, is_eval=False, model_name=\"\"):\n",
    "        #State size depends and is equal to the the window size, n previous days\n",
    "        self.state_size = state_size # normalized previous days, \n",
    "        self.action_size = 3 # sit, buy, sell\n",
    "        self.memory = deque(maxlen=1000)\n",
    "        self.inventory = []\n",
    "        self.model_name = model_name\n",
    "        self.is_eval = is_eval\n",
    "\n",
    "        self.gamma = 0.95\n",
    "        self.epsilon = 1.0\n",
    "        self.epsilon_min = 0.01\n",
    "        self.epsilon_decay = 0.995\n",
    "        #self.epsilon_decay = 0.9\n",
    "        \n",
    "        #self.model = self._model()\n",
    "\n",
    "        self.model = load_model(model_name) if is_eval else self._model()\n",
    "\n",
    "    #Deep Q Learning model- returns the q-value when given state as input \n",
    "    def _model(self):\n",
    "        model = Sequential()\n",
    "        #Input Layer\n",
    "        model.add(Dense(units=64, input_dim=self.state_size, activation=\"relu\"))\n",
    "        #Hidden Layers\n",
    "        model.add(Dense(units=32, activation=\"relu\"))\n",
    "        model.add(Dense(units=8, activation=\"relu\"))\n",
    "        #Output Layer \n",
    "        model.add(Dense(self.action_size, activation=\"linear\"))\n",
    "        model.compile(loss=\"mse\", optimizer=Adam(learning_rate=0.001))\n",
    "        return model\n",
    "    \n",
    "    #Return the action on the value function\n",
    "    #With probability (1-$\\epsilon$) choose the action which has the highest Q-value.\n",
    "    #With probability ($\\epsilon$) choose any action at random.\n",
    "    #Intitially high epsilon-more random, later less\n",
    "    #The trained agents were evaluated by different initial random condition\n",
    "    #and an e-greedy policy with epsilon 0.05. This procedure is adopted to minimize the possibility of overfitting during evaluation.\n",
    " \n",
    "    def act(self, state): \n",
    "        #If it is test and self.epsilon is still very high, once the epsilon become low, there are no random\n",
    "        #actions suggested.\n",
    "        if not self.is_eval and random.random() <= self.epsilon:\n",
    "            return random.randrange(self.action_size)        \n",
    "        options = self.model.predict(state)\n",
    "        #set_trace()\n",
    "        #action is based on the action that has the highest value from the q-value function.\n",
    "        return np.argmax(options[0])\n",
    "\n",
    "    def expReplay(self, batch_size):\n",
    "        mini_batch = []\n",
    "        l = len(self.memory)\n",
    "        for i in range(l - batch_size + 1, l):\n",
    "            mini_batch.append(self.memory[i])\n",
    "        \n",
    "        # the memory during the training phase. \n",
    "        for state, action, reward, next_state, done in mini_batch:\n",
    "            target = reward # reward or Q at time t    \n",
    "            #update the Q table based on Q table equation\n",
    "            #set_trace()\n",
    "            if not done:\n",
    "                #set_trace()\n",
    "                #max of the array of the predicted. \n",
    "                target = reward + self.gamma * np.amax(self.model.predict(next_state)[0])     \n",
    "                \n",
    "            # Q-value of the state currently from the table    \n",
    "            target_f = self.model.predict(state)\n",
    "            # Update the output Q table for the given action in the table     \n",
    "            target_f[0][action] = target\n",
    "            #train and fit the model where state is X and target_f is Y, where the target is updated. \n",
    "            self.model.fit(state, target_f, epochs=1, verbose=0)\n",
    "        \n",
    "        if self.epsilon > self.epsilon_min:\n",
    "            self.epsilon *= self.epsilon_decay"
   ]
  },
  {
   "cell_type": "code",
   "execution_count": 9,
   "id": "9975fb8a-61fa-4e2b-84ce-0a4c62fb6e06",
   "metadata": {},
   "outputs": [],
   "source": [
    "# prints formatted price\n",
    "def formatPrice(n):\n",
    "    return (\"-$\" if n < 0 else \"$\") + \"{0:.2f}\".format(abs(n))\n",
    "\n",
    "# # returns the vector containing stock data from a fixed file \n",
    "# def getStockData(key):\n",
    "#     vec = []\n",
    "#     lines = open(\"data/\" + key + \".csv\", \"r\").read().splitlines()\n",
    "\n",
    "#     for line in lines[1:]:\n",
    "#         vec.append(float(line.split(\",\")[4])) #Only Close column\n",
    "\n",
    "#     return vec\n",
    "\n",
    "# returns the sigmoid\n",
    "def sigmoid(x):\n",
    "    return 1 / (1 + math.exp(-x))\n",
    "\n",
    "# returns an an n-day state representation ending at time t\n",
    "\n",
    "def getState(data, t, n):    \n",
    "    d = t - n + 1\n",
    "    block = data[d:t + 1] if d >= 0 else -d * [data[0]] + data[0:t + 1] # pad with t0\n",
    "    #block is which is the for [1283.27002, 1283.27002]\n",
    "    res = []\n",
    "    for i in range(n - 1):\n",
    "        res.append(sigmoid(block[i + 1] - block[i]))\n",
    "    return np.array([res])\n",
    "\n",
    "# Plots the behavior of the output\n",
    "def plot_behavior(data_input, states_buy, states_sell, profit):\n",
    "    fig = plt.figure(figsize = (15,5))\n",
    "    plt.plot(data_input, color='r', lw=2.)\n",
    "    plt.plot(data_input, '^', markersize=10, color='m', label = 'Buying signal', markevery = states_buy)\n",
    "    plt.plot(data_input, 'v', markersize=10, color='k', label = 'Selling signal', markevery = states_sell)\n",
    "    plt.title('Total gains: %f'%(profit))\n",
    "    plt.legend()\n",
    "    plt.show()"
   ]
  },
  {
   "cell_type": "code",
   "execution_count": null,
   "id": "eadbd06d-7995-496c-acea-45052aa0e108",
   "metadata": {},
   "outputs": [
    {
     "name": "stdout",
     "output_type": "stream",
     "text": [
      "Running episode 0/10\n",
      "Buy: $41.41\n",
      "Buy: $41.11\n",
      "Buy: $41.73\n",
      "Buy: $41.56\n",
      "Buy: $40.22\n",
      "Buy: $40.08\n",
      "Sell: $39.80 | Profit: -$1.61\n",
      "Sell: $37.02 | Profit: -$4.09\n",
      "--------------------------------\n",
      "Total Profit: -$5.70\n",
      "--------------------------------\n",
      "> \u001b[0;32m/var/folders/05/m77m7f41753fkd9btgv2wwnc0000gn/T/ipykernel_1406/75615049.py\u001b[0m(48)\u001b[0;36m<module>\u001b[0;34m()\u001b[0m\n",
      "\u001b[0;32m     46 \u001b[0;31m            \u001b[0mprint\u001b[0m\u001b[0;34m(\u001b[0m\u001b[0;34m\"--------------------------------\"\u001b[0m\u001b[0;34m)\u001b[0m\u001b[0;34m\u001b[0m\u001b[0;34m\u001b[0m\u001b[0m\n",
      "\u001b[0m\u001b[0;32m     47 \u001b[0;31m            \u001b[0mset_trace\u001b[0m\u001b[0;34m(\u001b[0m\u001b[0;34m)\u001b[0m\u001b[0;34m\u001b[0m\u001b[0;34m\u001b[0m\u001b[0m\n",
      "\u001b[0m\u001b[0;32m---> 48 \u001b[0;31m            \u001b[0mpd\u001b[0m\u001b[0;34m.\u001b[0m\u001b[0mDataFrame\u001b[0m\u001b[0;34m(\u001b[0m\u001b[0mnp\u001b[0m\u001b[0;34m.\u001b[0m\u001b[0marray\u001b[0m\u001b[0;34m(\u001b[0m\u001b[0magent\u001b[0m\u001b[0;34m.\u001b[0m\u001b[0mmemory\u001b[0m\u001b[0;34m)\u001b[0m\u001b[0;34m)\u001b[0m\u001b[0;34m.\u001b[0m\u001b[0mto_csv\u001b[0m\u001b[0;34m(\u001b[0m\u001b[0;34m\"Agent\"\u001b[0m\u001b[0;34m+\u001b[0m\u001b[0mstr\u001b[0m\u001b[0;34m(\u001b[0m\u001b[0me\u001b[0m\u001b[0;34m)\u001b[0m\u001b[0;34m+\u001b[0m\u001b[0;34m\".csv\"\u001b[0m\u001b[0;34m)\u001b[0m\u001b[0;34m\u001b[0m\u001b[0;34m\u001b[0m\u001b[0m\n",
      "\u001b[0m\u001b[0;32m     49 \u001b[0;31m            \u001b[0;31m#Chart to show how the model performs with the stock goin up and down for each\u001b[0m\u001b[0;34m\u001b[0m\u001b[0;34m\u001b[0m\u001b[0m\n",
      "\u001b[0m\u001b[0;32m     50 \u001b[0;31m            \u001b[0mplot_behavior\u001b[0m\u001b[0;34m(\u001b[0m\u001b[0mdata\u001b[0m\u001b[0;34m,\u001b[0m\u001b[0mstates_buy\u001b[0m\u001b[0;34m,\u001b[0m \u001b[0mstates_sell\u001b[0m\u001b[0;34m,\u001b[0m \u001b[0mtotal_profit\u001b[0m\u001b[0;34m)\u001b[0m\u001b[0;34m\u001b[0m\u001b[0;34m\u001b[0m\u001b[0m\n",
      "\u001b[0m\n"
     ]
    }
   ],
   "source": [
    "from IPython.core.debugger import set_trace\n",
    "window_size = 1\n",
    "agent = Agent(window_size)\n",
    "#In this step we feed the closing value of the stock price \n",
    "data = X_train\n",
    "l = len(data) - 1\n",
    "#\n",
    "batch_size = 32\n",
    "#An episode represents a complete pass over the data.\n",
    "episode_count = 10\n",
    "\n",
    "for e in range(episode_count + 1):\n",
    "    print(\"Running episode \" + str(e) + \"/\" + str(episode_count))\n",
    "    state = getState(data, 0, window_size + 1)\n",
    "    #set_trace()\n",
    "    total_profit = 0\n",
    "    agent.inventory = []\n",
    "    states_sell = []\n",
    "    states_buy = []\n",
    "    for t in range(l):\n",
    "        action = agent.act(state)    \n",
    "        # sit\n",
    "        next_state = getState(data, t + 1, window_size + 1)\n",
    "        reward = 0\n",
    "\n",
    "        if action == 1: # buy\n",
    "            agent.inventory.append(data[t])\n",
    "            states_buy.append(t)\n",
    "            print(\"Buy: \" + formatPrice(data[t]))\n",
    "\n",
    "        elif action == 2 and len(agent.inventory) > 0: # sell\n",
    "            bought_price = agent.inventory.pop(0)      \n",
    "            reward = max(data[t] - bought_price, 0)\n",
    "            total_profit += data[t] - bought_price\n",
    "            states_sell.append(t)\n",
    "            print(\"Sell: \" + formatPrice(data[t]) + \" | Profit: \" + formatPrice(data[t] - bought_price))\n",
    "\n",
    "        done = True if t == l - 1 else False\n",
    "        #appends the details of the state action etc in the memory, which is used further by the exeReply function\n",
    "        agent.memory.append((state, action, reward, next_state, done))\n",
    "        state = next_state\n",
    "\n",
    "        if done:\n",
    "            print(\"--------------------------------\")\n",
    "            print(\"Total Profit: \" + formatPrice(total_profit))\n",
    "            print(\"--------------------------------\")\n",
    "            set_trace()\n",
    "            pd.DataFrame(np.array(agent.memory)).to_csv(\"Agent\"+str(e)+\".csv\")\n",
    "            #Chart to show how the model performs with the stock goin up and down for each \n",
    "            plot_behavior(data,states_buy, states_sell, total_profit)\n",
    "        if len(agent.memory) > batch_size:\n",
    "            agent.expReplay(batch_size)    \n",
    "            \n",
    "\n",
    "    if e % 2 == 0:\n",
    "        agent.model.save(\"model_ep\" + str(e))"
   ]
  },
  {
   "cell_type": "code",
   "execution_count": null,
   "id": "ce5768a2-901a-4978-8510-3c077b98cda5",
   "metadata": {},
   "outputs": [],
   "source": [
    "print(agent.model.summary())\n"
   ]
  },
  {
   "cell_type": "markdown",
   "id": "689f8950-c6c5-4cc8-a0d1-a814582059b9",
   "metadata": {},
   "source": [
    "## Alternative Method\n"
   ]
  },
  {
   "cell_type": "code",
   "execution_count": 10,
   "id": "246e2a32-cadb-4798-8ce5-e83fae7c3e67",
   "metadata": {},
   "outputs": [],
   "source": [
    "import gym\n",
    "\n",
    "class StockTradingEnv(gym.Env):\n",
    "    def __init__(self, data):\n",
    "        super(StockTradingEnv, self).__init__()\n",
    "        self.data = data\n",
    "        self.current_step = 0\n",
    "        self.action_space = gym.spaces.Discrete(3)  # Buy, Sell, Hold\n",
    "        self.observation_space = gym.spaces.Box(low=0, high=1, shape=(len(data.columns),), dtype=np.float32)\n",
    "    \n",
    "    def reset(self):\n",
    "        self.current_step = 0\n",
    "        return self.data.iloc[self.current_step].values\n",
    "    \n",
    "    def step(self, action):\n",
    "        self.current_step += 1\n",
    "        done = self.current_step >= len(self.data)\n",
    "        reward = 0  # Define your reward logic here\n",
    "        next_state = self.data.iloc[self.current_step].values if not done else None\n",
    "        return next_state, reward, done, {}"
   ]
  },
  {
   "cell_type": "code",
   "execution_count": 11,
   "id": "44a91deb-adb7-474c-981a-1216d4e7ad6e",
   "metadata": {},
   "outputs": [],
   "source": [
    "class QLearningAgent:\n",
    "    def __init__(self, action_space, observation_space, alpha=0.1, gamma=0.99, epsilon=0.1):\n",
    "        self.action_space = action_space\n",
    "        self.observation_space = observation_space\n",
    "        self.alpha = alpha\n",
    "        self.gamma = gamma\n",
    "        self.epsilon = epsilon\n",
    "        self.q_table = np.zeros((observation_space.shape[0], action_space.n))\n",
    "    \n",
    "    def choose_action(self, state):\n",
    "        if random.uniform(0, 1) < self.epsilon:\n",
    "            return self.action_space.sample()\n",
    "        else:\n",
    "            return np.argmax(self.q_table[state])\n",
    "    \n",
    "    def update_q_table(self, state, action, reward, next_state):\n",
    "        best_next_action = np.argmax(self.q_table[next_state])\n",
    "        td_target = reward + self.gamma * self.q_table[next_state, best_next_action]\n",
    "        td_error = td_target - self.q_table[state, action]\n",
    "        self.q_table[state, action] += self.alpha * td_error"
   ]
  },
  {
   "cell_type": "code",
   "execution_count": 12,
   "id": "99cfba0d-b0d0-49a6-8633-f5040fda653e",
   "metadata": {},
   "outputs": [
    {
     "ename": "IndexError",
     "evalue": "arrays used as indices must be of integer (or boolean) type",
     "output_type": "error",
     "traceback": [
      "\u001b[0;31m---------------------------------------------------------------------------\u001b[0m",
      "\u001b[0;31mIndexError\u001b[0m                                Traceback (most recent call last)",
      "Cell \u001b[0;32mIn[12], line 16\u001b[0m\n\u001b[1;32m     14\u001b[0m env \u001b[38;5;241m=\u001b[39m StockTradingEnv(data)\n\u001b[1;32m     15\u001b[0m agent \u001b[38;5;241m=\u001b[39m QLearningAgent(env\u001b[38;5;241m.\u001b[39maction_space, env\u001b[38;5;241m.\u001b[39mobservation_space)\n\u001b[0;32m---> 16\u001b[0m \u001b[43mtrain_agent\u001b[49m\u001b[43m(\u001b[49m\u001b[43menv\u001b[49m\u001b[43m,\u001b[49m\u001b[43m \u001b[49m\u001b[43magent\u001b[49m\u001b[43m)\u001b[49m\n",
      "Cell \u001b[0;32mIn[12], line 6\u001b[0m, in \u001b[0;36mtrain_agent\u001b[0;34m(env, agent, episodes)\u001b[0m\n\u001b[1;32m      4\u001b[0m done \u001b[38;5;241m=\u001b[39m \u001b[38;5;28;01mFalse\u001b[39;00m\n\u001b[1;32m      5\u001b[0m \u001b[38;5;28;01mwhile\u001b[39;00m \u001b[38;5;129;01mnot\u001b[39;00m done:\n\u001b[0;32m----> 6\u001b[0m     action \u001b[38;5;241m=\u001b[39m \u001b[43magent\u001b[49m\u001b[38;5;241;43m.\u001b[39;49m\u001b[43mchoose_action\u001b[49m\u001b[43m(\u001b[49m\u001b[43mstate\u001b[49m\u001b[43m)\u001b[49m\n\u001b[1;32m      7\u001b[0m     next_state, reward, done, _ \u001b[38;5;241m=\u001b[39m env\u001b[38;5;241m.\u001b[39mstep(action)\n\u001b[1;32m      8\u001b[0m     agent\u001b[38;5;241m.\u001b[39mupdate_q_table(state, action, reward, next_state)\n",
      "Cell \u001b[0;32mIn[11], line 14\u001b[0m, in \u001b[0;36mQLearningAgent.choose_action\u001b[0;34m(self, state)\u001b[0m\n\u001b[1;32m     12\u001b[0m     \u001b[38;5;28;01mreturn\u001b[39;00m \u001b[38;5;28mself\u001b[39m\u001b[38;5;241m.\u001b[39maction_space\u001b[38;5;241m.\u001b[39msample()\n\u001b[1;32m     13\u001b[0m \u001b[38;5;28;01melse\u001b[39;00m:\n\u001b[0;32m---> 14\u001b[0m     \u001b[38;5;28;01mreturn\u001b[39;00m np\u001b[38;5;241m.\u001b[39margmax(\u001b[38;5;28;43mself\u001b[39;49m\u001b[38;5;241;43m.\u001b[39;49m\u001b[43mq_table\u001b[49m\u001b[43m[\u001b[49m\u001b[43mstate\u001b[49m\u001b[43m]\u001b[49m)\n",
      "\u001b[0;31mIndexError\u001b[0m: arrays used as indices must be of integer (or boolean) type"
     ]
    }
   ],
   "source": [
    "def train_agent(env, agent, episodes=1000):\n",
    "    for episode in range(episodes):\n",
    "        state = env.reset()\n",
    "        done = False\n",
    "        while not done:\n",
    "            action = agent.choose_action(state)\n",
    "            next_state, reward, done, _ = env.step(action)\n",
    "            agent.update_q_table(state, action, reward, next_state)\n",
    "            state = next_state\n",
    "\n",
    "# Load your stock data\n",
    "#data = pd.read_csv('stock_data.csv')  # Replace with your dataset\n",
    "\n",
    "env = StockTradingEnv(data)\n",
    "agent = QLearningAgent(env.action_space, env.observation_space)\n",
    "train_agent(env, agent)"
   ]
  },
  {
   "cell_type": "code",
   "execution_count": null,
   "id": "42b49826-305b-43af-b672-5810dd1d4412",
   "metadata": {},
   "outputs": [],
   "source": []
  }
 ],
 "metadata": {
  "kernelspec": {
   "display_name": "Python 3 (ipykernel)",
   "language": "python",
   "name": "python3"
  },
  "language_info": {
   "codemirror_mode": {
    "name": "ipython",
    "version": 3
   },
   "file_extension": ".py",
   "mimetype": "text/x-python",
   "name": "python",
   "nbconvert_exporter": "python",
   "pygments_lexer": "ipython3",
   "version": "3.10.8"
  }
 },
 "nbformat": 4,
 "nbformat_minor": 5
}
