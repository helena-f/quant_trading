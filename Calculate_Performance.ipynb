{
 "cells": [
  {
   "cell_type": "code",
   "execution_count": 1,
   "id": "3d6d83e4-8bc2-4a3f-8980-3bf8da29feed",
   "metadata": {},
   "outputs": [
    {
     "ename": "ModuleNotFoundError",
     "evalue": "No module named 'yfinance'",
     "output_type": "error",
     "traceback": [
      "\u001b[0;31m---------------------------------------------------------------------------\u001b[0m",
      "\u001b[0;31mModuleNotFoundError\u001b[0m                       Traceback (most recent call last)",
      "Cell \u001b[0;32mIn[1], line 2\u001b[0m\n\u001b[1;32m      1\u001b[0m \u001b[38;5;28;01mimport\u001b[39;00m \u001b[38;5;21;01mpandas\u001b[39;00m \u001b[38;5;28;01mas\u001b[39;00m \u001b[38;5;21;01mpd\u001b[39;00m\n\u001b[0;32m----> 2\u001b[0m \u001b[38;5;28;01mimport\u001b[39;00m \u001b[38;5;21;01myfinance\u001b[39;00m \u001b[38;5;28;01mas\u001b[39;00m \u001b[38;5;21;01myahooFinance\u001b[39;00m\n\u001b[1;32m      4\u001b[0m GetFacebookInformation \u001b[38;5;241m=\u001b[39m yahooFinance\u001b[38;5;241m.\u001b[39mTicker(\u001b[38;5;124m\"\u001b[39m\u001b[38;5;124mMETA\u001b[39m\u001b[38;5;124m\"\u001b[39m)\n\u001b[1;32m      5\u001b[0m meta_data \u001b[38;5;241m=\u001b[39m GetFacebookInformation\u001b[38;5;241m.\u001b[39mhistory(period\u001b[38;5;241m=\u001b[39m\u001b[38;5;124m\"\u001b[39m\u001b[38;5;124mmax\u001b[39m\u001b[38;5;124m\"\u001b[39m)\n",
      "\u001b[0;31mModuleNotFoundError\u001b[0m: No module named 'yfinance'"
     ]
    }
   ],
   "source": [
    "import pandas as pd\n",
    "import yfinance as yahooFinance\n",
    "\n",
    "GetFacebookInformation = yahooFinance.Ticker(\"META\")\n",
    "meta_data = GetFacebookInformation.history(period=\"max\")\n"
   ]
  },
  {
   "cell_type": "code",
   "execution_count": null,
   "id": "69204d59-a524-47bf-953e-4590d6c7ff89",
   "metadata": {},
   "outputs": [],
   "source": [
    "import numpy as np\n",
    "\n",
    "# generate daily returns of stock\n",
    "\n",
    "daily_close = meta_data[['Close']]\n",
    "\n",
    "daily_return = daily_close.pct_change() # returns as fractional change\n",
    "daily_return.fillna(0, inplace=True)\n",
    "print(daily_return)\n",
    "\n",
    "# find monthly returns\n",
    "mdata = meta_data.resample('ME').apply(lambda x: x[-1])\n",
    "\n",
    "monthly_return = mdata.pct_change()"
   ]
  },
  {
   "cell_type": "code",
   "execution_count": null,
   "id": "ed60f4ca-dff0-46be-a7c4-251601c87cef",
   "metadata": {},
   "outputs": [],
   "source": []
  }
 ],
 "metadata": {
  "kernelspec": {
   "display_name": "Python 3 (ipykernel)",
   "language": "python",
   "name": "python3"
  },
  "language_info": {
   "codemirror_mode": {
    "name": "ipython",
    "version": 3
   },
   "file_extension": ".py",
   "mimetype": "text/x-python",
   "name": "python",
   "nbconvert_exporter": "python",
   "pygments_lexer": "ipython3",
   "version": "3.9.12"
  }
 },
 "nbformat": 4,
 "nbformat_minor": 5
}
