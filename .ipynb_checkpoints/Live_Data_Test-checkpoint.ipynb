{
 "cells": [
  {
   "cell_type": "code",
   "execution_count": 9,
   "id": "8a2fdf11-db23-47d4-9ea7-b4191d65b0a8",
   "metadata": {},
   "outputs": [],
   "source": [
    "from websocket import create_connection\n",
    "import json\n",
    "import pandas as pd\n",
    "\n",
    "socket = \"wss://data.tradingview.com/socket.io/websocket\"\n",
    "ws = create_connection(socket)"
   ]
  },
  {
   "cell_type": "code",
   "execution_count": 10,
   "id": "9368eab2-2d85-4094-8d51-ee9a1a08e42e",
   "metadata": {},
   "outputs": [],
   "source": [
    "def create_msg(fun, arg):\n",
    "    ms = json.dumps({\"m\": fun, \"p\": arg})\n",
    "    msg = \"~m~\" + str(len(ms)) + \"~m~\" + ms\n",
    "    print(msg)"
   ]
  },
  {
   "cell_type": "code",
   "execution_count": 11,
   "id": "d40ae2b9-568b-4101-9c8e-325c104deb73",
   "metadata": {},
   "outputs": [
    {
     "name": "stdout",
     "output_type": "stream",
     "text": [
      "~m~59~m~{\"m\": \"chart_create_session\", \"p\": [\"cs_Z8lZUkSJ1hd0\", \"\"]}\n",
      "~m~164~m~{\"m\": \"resolve_symbol\", \"p\": [\"cs_Z8lZUkSJ1hd0\", \"sds_sym_1\", \"={\\\"adjustment\\\":\\\"splits\\\",\\\"currency-id\\\":\\\"USD\\\",\\\"symbol\\\":\\\"NYMEX:CL1!\\\",\\\"unit-id\\\":\\\"BLL\\\"}\"]}\n",
      "~m~90~m~{\"m\": \"create_series\", \"p\": [\"cs_Z8lZUkSJ1hd0\", \"sds_1\", \"s1\", \"sds_sym_1\", \"D\", 300, \"\"]}\n"
     ]
    }
   ],
   "source": [
    "create_msg(\"chart_create_session\", [\"cs_Z8lZUkSJ1hd0\", \"\"])\n",
    "create_msg(\"resolve_symbol\", [\"cs_Z8lZUkSJ1hd0\",\"sds_sym_1\",\"={\\\"adjustment\\\":\\\"splits\\\",\\\"currency-id\\\":\\\"USD\\\",\\\"symbol\\\":\\\"NYMEX:CL1!\\\",\\\"unit-id\\\":\\\"BLL\\\"}\"])\n",
    "create_msg(\"create_series\", [\"cs_Z8lZUkSJ1hd0\",\"sds_1\",\"s1\",\"sds_sym_1\",\"D\",300,\"\"])"
   ]
  },
  {
   "cell_type": "code",
   "execution_count": 12,
   "id": "3b7c5a3e-06cd-412b-ae40-a48ed536d561",
   "metadata": {},
   "outputs": [
    {
     "name": "stdout",
     "output_type": "stream",
     "text": [
      "~m~288~m~{\"session_id\":\"0.20698.3323_sfo2-charts-33-webchart-3\",\"timestamp\":1736146857,\"timestampMs\":1736146857448,\"release\":\"release_208-11\",\"studies_metadata_hash\":\"e4e120c62c14578831c13e361fe7cf94178d6898\",\"auth_scheme_vsn\":2,\"protocol\":\"json\",\"via\":\"192.108.254.50:443\",\"javastudies\":[\"3.66\"]}\n",
      "~m~4~m~~h~1\n",
      "~m~4~m~~h~2\n",
      "~m~4~m~~h~3\n",
      "~m~4~m~~h~4\n"
     ]
    },
    {
     "ename": "KeyboardInterrupt",
     "evalue": "",
     "output_type": "error",
     "traceback": [
      "\u001b[0;31m---------------------------------------------------------------------------\u001b[0m",
      "\u001b[0;31mKeyboardInterrupt\u001b[0m                         Traceback (most recent call last)",
      "Cell \u001b[0;32mIn[12], line 2\u001b[0m\n\u001b[1;32m      1\u001b[0m \u001b[38;5;28;01mwhile\u001b[39;00m \u001b[38;5;28;01mTrue\u001b[39;00m:\n\u001b[0;32m----> 2\u001b[0m     res \u001b[38;5;241m=\u001b[39m \u001b[43mws\u001b[49m\u001b[38;5;241;43m.\u001b[39;49m\u001b[43mrecv\u001b[49m\u001b[43m(\u001b[49m\u001b[43m)\u001b[49m\n\u001b[1;32m      3\u001b[0m     \u001b[38;5;28mprint\u001b[39m(res)\n",
      "File \u001b[0;32m~/miniconda3/envs/trading_explore/lib/python3.10/site-packages/websocket/_core.py:388\u001b[0m, in \u001b[0;36mWebSocket.recv\u001b[0;34m(self)\u001b[0m\n\u001b[1;32m    380\u001b[0m \u001b[38;5;250m\u001b[39m\u001b[38;5;124;03m\"\"\"\u001b[39;00m\n\u001b[1;32m    381\u001b[0m \u001b[38;5;124;03mReceive string data(byte array) from the server.\u001b[39;00m\n\u001b[1;32m    382\u001b[0m \n\u001b[0;32m   (...)\u001b[0m\n\u001b[1;32m    385\u001b[0m \u001b[38;5;124;03mdata: string (byte array) value.\u001b[39;00m\n\u001b[1;32m    386\u001b[0m \u001b[38;5;124;03m\"\"\"\u001b[39;00m\n\u001b[1;32m    387\u001b[0m \u001b[38;5;28;01mwith\u001b[39;00m \u001b[38;5;28mself\u001b[39m\u001b[38;5;241m.\u001b[39mreadlock:\n\u001b[0;32m--> 388\u001b[0m     opcode, data \u001b[38;5;241m=\u001b[39m \u001b[38;5;28;43mself\u001b[39;49m\u001b[38;5;241;43m.\u001b[39;49m\u001b[43mrecv_data\u001b[49m\u001b[43m(\u001b[49m\u001b[43m)\u001b[49m\n\u001b[1;32m    389\u001b[0m \u001b[38;5;28;01mif\u001b[39;00m opcode \u001b[38;5;241m==\u001b[39m ABNF\u001b[38;5;241m.\u001b[39mOPCODE_TEXT:\n\u001b[1;32m    390\u001b[0m     data_received: Union[\u001b[38;5;28mbytes\u001b[39m, \u001b[38;5;28mstr\u001b[39m] \u001b[38;5;241m=\u001b[39m data\n",
      "File \u001b[0;32m~/miniconda3/envs/trading_explore/lib/python3.10/site-packages/websocket/_core.py:416\u001b[0m, in \u001b[0;36mWebSocket.recv_data\u001b[0;34m(self, control_frame)\u001b[0m\n\u001b[1;32m    401\u001b[0m \u001b[38;5;28;01mdef\u001b[39;00m \u001b[38;5;21mrecv_data\u001b[39m(\u001b[38;5;28mself\u001b[39m, control_frame: \u001b[38;5;28mbool\u001b[39m \u001b[38;5;241m=\u001b[39m \u001b[38;5;28;01mFalse\u001b[39;00m) \u001b[38;5;241m-\u001b[39m\u001b[38;5;241m>\u001b[39m \u001b[38;5;28mtuple\u001b[39m:\n\u001b[1;32m    402\u001b[0m \u001b[38;5;250m    \u001b[39m\u001b[38;5;124;03m\"\"\"\u001b[39;00m\n\u001b[1;32m    403\u001b[0m \u001b[38;5;124;03m    Receive data with operation code.\u001b[39;00m\n\u001b[1;32m    404\u001b[0m \n\u001b[0;32m   (...)\u001b[0m\n\u001b[1;32m    414\u001b[0m \u001b[38;5;124;03m        tuple of operation code and string(byte array) value.\u001b[39;00m\n\u001b[1;32m    415\u001b[0m \u001b[38;5;124;03m    \"\"\"\u001b[39;00m\n\u001b[0;32m--> 416\u001b[0m     opcode, frame \u001b[38;5;241m=\u001b[39m \u001b[38;5;28;43mself\u001b[39;49m\u001b[38;5;241;43m.\u001b[39;49m\u001b[43mrecv_data_frame\u001b[49m\u001b[43m(\u001b[49m\u001b[43mcontrol_frame\u001b[49m\u001b[43m)\u001b[49m\n\u001b[1;32m    417\u001b[0m     \u001b[38;5;28;01mreturn\u001b[39;00m opcode, frame\u001b[38;5;241m.\u001b[39mdata\n",
      "File \u001b[0;32m~/miniconda3/envs/trading_explore/lib/python3.10/site-packages/websocket/_core.py:437\u001b[0m, in \u001b[0;36mWebSocket.recv_data_frame\u001b[0;34m(self, control_frame)\u001b[0m\n\u001b[1;32m    420\u001b[0m \u001b[38;5;250m\u001b[39m\u001b[38;5;124;03m\"\"\"\u001b[39;00m\n\u001b[1;32m    421\u001b[0m \u001b[38;5;124;03mReceive data with operation code.\u001b[39;00m\n\u001b[1;32m    422\u001b[0m \n\u001b[0;32m   (...)\u001b[0m\n\u001b[1;32m    434\u001b[0m \u001b[38;5;124;03m    tuple of operation code and string(byte array) value.\u001b[39;00m\n\u001b[1;32m    435\u001b[0m \u001b[38;5;124;03m\"\"\"\u001b[39;00m\n\u001b[1;32m    436\u001b[0m \u001b[38;5;28;01mwhile\u001b[39;00m \u001b[38;5;28;01mTrue\u001b[39;00m:\n\u001b[0;32m--> 437\u001b[0m     frame \u001b[38;5;241m=\u001b[39m \u001b[38;5;28;43mself\u001b[39;49m\u001b[38;5;241;43m.\u001b[39;49m\u001b[43mrecv_frame\u001b[49m\u001b[43m(\u001b[49m\u001b[43m)\u001b[49m\n\u001b[1;32m    438\u001b[0m     \u001b[38;5;28;01mif\u001b[39;00m isEnabledForTrace():\n\u001b[1;32m    439\u001b[0m         trace(\u001b[38;5;124mf\u001b[39m\u001b[38;5;124m\"\u001b[39m\u001b[38;5;124m++Rcv raw: \u001b[39m\u001b[38;5;132;01m{\u001b[39;00m\u001b[38;5;28mrepr\u001b[39m(frame\u001b[38;5;241m.\u001b[39mformat())\u001b[38;5;132;01m}\u001b[39;00m\u001b[38;5;124m\"\u001b[39m)\n",
      "File \u001b[0;32m~/miniconda3/envs/trading_explore/lib/python3.10/site-packages/websocket/_core.py:478\u001b[0m, in \u001b[0;36mWebSocket.recv_frame\u001b[0;34m(self)\u001b[0m\n\u001b[1;32m    470\u001b[0m \u001b[38;5;28;01mdef\u001b[39;00m \u001b[38;5;21mrecv_frame\u001b[39m(\u001b[38;5;28mself\u001b[39m):\n\u001b[1;32m    471\u001b[0m \u001b[38;5;250m    \u001b[39m\u001b[38;5;124;03m\"\"\"\u001b[39;00m\n\u001b[1;32m    472\u001b[0m \u001b[38;5;124;03m    Receive data as frame from server.\u001b[39;00m\n\u001b[1;32m    473\u001b[0m \n\u001b[0;32m   (...)\u001b[0m\n\u001b[1;32m    476\u001b[0m \u001b[38;5;124;03m    self.frame_buffer.recv_frame(): ABNF frame object\u001b[39;00m\n\u001b[1;32m    477\u001b[0m \u001b[38;5;124;03m    \"\"\"\u001b[39;00m\n\u001b[0;32m--> 478\u001b[0m     \u001b[38;5;28;01mreturn\u001b[39;00m \u001b[38;5;28;43mself\u001b[39;49m\u001b[38;5;241;43m.\u001b[39;49m\u001b[43mframe_buffer\u001b[49m\u001b[38;5;241;43m.\u001b[39;49m\u001b[43mrecv_frame\u001b[49m\u001b[43m(\u001b[49m\u001b[43m)\u001b[49m\n",
      "File \u001b[0;32m~/miniconda3/envs/trading_explore/lib/python3.10/site-packages/websocket/_abnf.py:363\u001b[0m, in \u001b[0;36mframe_buffer.recv_frame\u001b[0;34m(self)\u001b[0m\n\u001b[1;32m    360\u001b[0m \u001b[38;5;28;01mwith\u001b[39;00m \u001b[38;5;28mself\u001b[39m\u001b[38;5;241m.\u001b[39mlock:\n\u001b[1;32m    361\u001b[0m     \u001b[38;5;66;03m# Header\u001b[39;00m\n\u001b[1;32m    362\u001b[0m     \u001b[38;5;28;01mif\u001b[39;00m \u001b[38;5;28mself\u001b[39m\u001b[38;5;241m.\u001b[39mhas_received_header():\n\u001b[0;32m--> 363\u001b[0m         \u001b[38;5;28;43mself\u001b[39;49m\u001b[38;5;241;43m.\u001b[39;49m\u001b[43mrecv_header\u001b[49m\u001b[43m(\u001b[49m\u001b[43m)\u001b[49m\n\u001b[1;32m    364\u001b[0m     (fin, rsv1, rsv2, rsv3, opcode, has_mask, _) \u001b[38;5;241m=\u001b[39m \u001b[38;5;28mself\u001b[39m\u001b[38;5;241m.\u001b[39mheader\n\u001b[1;32m    366\u001b[0m     \u001b[38;5;66;03m# Frame length\u001b[39;00m\n",
      "File \u001b[0;32m~/miniconda3/envs/trading_explore/lib/python3.10/site-packages/websocket/_abnf.py:319\u001b[0m, in \u001b[0;36mframe_buffer.recv_header\u001b[0;34m(self)\u001b[0m\n\u001b[1;32m    318\u001b[0m \u001b[38;5;28;01mdef\u001b[39;00m \u001b[38;5;21mrecv_header\u001b[39m(\u001b[38;5;28mself\u001b[39m) \u001b[38;5;241m-\u001b[39m\u001b[38;5;241m>\u001b[39m \u001b[38;5;28;01mNone\u001b[39;00m:\n\u001b[0;32m--> 319\u001b[0m     header \u001b[38;5;241m=\u001b[39m \u001b[38;5;28;43mself\u001b[39;49m\u001b[38;5;241;43m.\u001b[39;49m\u001b[43mrecv_strict\u001b[49m\u001b[43m(\u001b[49m\u001b[38;5;241;43m2\u001b[39;49m\u001b[43m)\u001b[49m\n\u001b[1;32m    320\u001b[0m     b1 \u001b[38;5;241m=\u001b[39m header[\u001b[38;5;241m0\u001b[39m]\n\u001b[1;32m    321\u001b[0m     fin \u001b[38;5;241m=\u001b[39m b1 \u001b[38;5;241m>>\u001b[39m \u001b[38;5;241m7\u001b[39m \u001b[38;5;241m&\u001b[39m \u001b[38;5;241m1\u001b[39m\n",
      "File \u001b[0;32m~/miniconda3/envs/trading_explore/lib/python3.10/site-packages/websocket/_abnf.py:398\u001b[0m, in \u001b[0;36mframe_buffer.recv_strict\u001b[0;34m(self, bufsize)\u001b[0m\n\u001b[1;32m    390\u001b[0m shortage \u001b[38;5;241m=\u001b[39m bufsize \u001b[38;5;241m-\u001b[39m \u001b[38;5;28msum\u001b[39m(\u001b[38;5;28mmap\u001b[39m(\u001b[38;5;28mlen\u001b[39m, \u001b[38;5;28mself\u001b[39m\u001b[38;5;241m.\u001b[39mrecv_buffer))\n\u001b[1;32m    391\u001b[0m \u001b[38;5;28;01mwhile\u001b[39;00m shortage \u001b[38;5;241m>\u001b[39m \u001b[38;5;241m0\u001b[39m:\n\u001b[1;32m    392\u001b[0m     \u001b[38;5;66;03m# Limit buffer size that we pass to socket.recv() to avoid\u001b[39;00m\n\u001b[1;32m    393\u001b[0m     \u001b[38;5;66;03m# fragmenting the heap -- the number of bytes recv() actually\u001b[39;00m\n\u001b[0;32m   (...)\u001b[0m\n\u001b[1;32m    396\u001b[0m     \u001b[38;5;66;03m# buffers allocated and then shrunk, which results in\u001b[39;00m\n\u001b[1;32m    397\u001b[0m     \u001b[38;5;66;03m# fragmentation.\u001b[39;00m\n\u001b[0;32m--> 398\u001b[0m     bytes_ \u001b[38;5;241m=\u001b[39m \u001b[38;5;28;43mself\u001b[39;49m\u001b[38;5;241;43m.\u001b[39;49m\u001b[43mrecv\u001b[49m\u001b[43m(\u001b[49m\u001b[38;5;28;43mmin\u001b[39;49m\u001b[43m(\u001b[49m\u001b[38;5;241;43m16384\u001b[39;49m\u001b[43m,\u001b[49m\u001b[43m \u001b[49m\u001b[43mshortage\u001b[49m\u001b[43m)\u001b[49m\u001b[43m)\u001b[49m\n\u001b[1;32m    399\u001b[0m     \u001b[38;5;28mself\u001b[39m\u001b[38;5;241m.\u001b[39mrecv_buffer\u001b[38;5;241m.\u001b[39mappend(bytes_)\n\u001b[1;32m    400\u001b[0m     shortage \u001b[38;5;241m-\u001b[39m\u001b[38;5;241m=\u001b[39m \u001b[38;5;28mlen\u001b[39m(bytes_)\n",
      "File \u001b[0;32m~/miniconda3/envs/trading_explore/lib/python3.10/site-packages/websocket/_core.py:563\u001b[0m, in \u001b[0;36mWebSocket._recv\u001b[0;34m(self, bufsize)\u001b[0m\n\u001b[1;32m    561\u001b[0m \u001b[38;5;28;01mdef\u001b[39;00m \u001b[38;5;21m_recv\u001b[39m(\u001b[38;5;28mself\u001b[39m, bufsize):\n\u001b[1;32m    562\u001b[0m     \u001b[38;5;28;01mtry\u001b[39;00m:\n\u001b[0;32m--> 563\u001b[0m         \u001b[38;5;28;01mreturn\u001b[39;00m \u001b[43mrecv\u001b[49m\u001b[43m(\u001b[49m\u001b[38;5;28;43mself\u001b[39;49m\u001b[38;5;241;43m.\u001b[39;49m\u001b[43msock\u001b[49m\u001b[43m,\u001b[49m\u001b[43m \u001b[49m\u001b[43mbufsize\u001b[49m\u001b[43m)\u001b[49m\n\u001b[1;32m    564\u001b[0m     \u001b[38;5;28;01mexcept\u001b[39;00m WebSocketConnectionClosedException:\n\u001b[1;32m    565\u001b[0m         \u001b[38;5;28;01mif\u001b[39;00m \u001b[38;5;28mself\u001b[39m\u001b[38;5;241m.\u001b[39msock:\n",
      "File \u001b[0;32m~/miniconda3/envs/trading_explore/lib/python3.10/site-packages/websocket/_socket.py:118\u001b[0m, in \u001b[0;36mrecv\u001b[0;34m(sock, bufsize)\u001b[0m\n\u001b[1;32m    116\u001b[0m         bytes_ \u001b[38;5;241m=\u001b[39m sock\u001b[38;5;241m.\u001b[39mrecv(bufsize)\n\u001b[1;32m    117\u001b[0m     \u001b[38;5;28;01melse\u001b[39;00m:\n\u001b[0;32m--> 118\u001b[0m         bytes_ \u001b[38;5;241m=\u001b[39m \u001b[43m_recv\u001b[49m\u001b[43m(\u001b[49m\u001b[43m)\u001b[49m\n\u001b[1;32m    119\u001b[0m \u001b[38;5;28;01mexcept\u001b[39;00m \u001b[38;5;167;01mTimeoutError\u001b[39;00m:\n\u001b[1;32m    120\u001b[0m     \u001b[38;5;28;01mraise\u001b[39;00m WebSocketTimeoutException(\u001b[38;5;124m\"\u001b[39m\u001b[38;5;124mConnection timed out\u001b[39m\u001b[38;5;124m\"\u001b[39m)\n",
      "File \u001b[0;32m~/miniconda3/envs/trading_explore/lib/python3.10/site-packages/websocket/_socket.py:97\u001b[0m, in \u001b[0;36mrecv.<locals>._recv\u001b[0;34m()\u001b[0m\n\u001b[1;32m     95\u001b[0m \u001b[38;5;28;01mdef\u001b[39;00m \u001b[38;5;21m_recv\u001b[39m():\n\u001b[1;32m     96\u001b[0m     \u001b[38;5;28;01mtry\u001b[39;00m:\n\u001b[0;32m---> 97\u001b[0m         \u001b[38;5;28;01mreturn\u001b[39;00m \u001b[43msock\u001b[49m\u001b[38;5;241;43m.\u001b[39;49m\u001b[43mrecv\u001b[49m\u001b[43m(\u001b[49m\u001b[43mbufsize\u001b[49m\u001b[43m)\u001b[49m\n\u001b[1;32m     98\u001b[0m     \u001b[38;5;28;01mexcept\u001b[39;00m SSLWantReadError:\n\u001b[1;32m     99\u001b[0m         \u001b[38;5;28;01mpass\u001b[39;00m\n",
      "File \u001b[0;32m~/miniconda3/envs/trading_explore/lib/python3.10/ssl.py:1259\u001b[0m, in \u001b[0;36mSSLSocket.recv\u001b[0;34m(self, buflen, flags)\u001b[0m\n\u001b[1;32m   1255\u001b[0m     \u001b[38;5;28;01mif\u001b[39;00m flags \u001b[38;5;241m!=\u001b[39m \u001b[38;5;241m0\u001b[39m:\n\u001b[1;32m   1256\u001b[0m         \u001b[38;5;28;01mraise\u001b[39;00m \u001b[38;5;167;01mValueError\u001b[39;00m(\n\u001b[1;32m   1257\u001b[0m             \u001b[38;5;124m\"\u001b[39m\u001b[38;5;124mnon-zero flags not allowed in calls to recv() on \u001b[39m\u001b[38;5;132;01m%s\u001b[39;00m\u001b[38;5;124m\"\u001b[39m \u001b[38;5;241m%\u001b[39m\n\u001b[1;32m   1258\u001b[0m             \u001b[38;5;28mself\u001b[39m\u001b[38;5;241m.\u001b[39m\u001b[38;5;18m__class__\u001b[39m)\n\u001b[0;32m-> 1259\u001b[0m     \u001b[38;5;28;01mreturn\u001b[39;00m \u001b[38;5;28;43mself\u001b[39;49m\u001b[38;5;241;43m.\u001b[39;49m\u001b[43mread\u001b[49m\u001b[43m(\u001b[49m\u001b[43mbuflen\u001b[49m\u001b[43m)\u001b[49m\n\u001b[1;32m   1260\u001b[0m \u001b[38;5;28;01melse\u001b[39;00m:\n\u001b[1;32m   1261\u001b[0m     \u001b[38;5;28;01mreturn\u001b[39;00m \u001b[38;5;28msuper\u001b[39m()\u001b[38;5;241m.\u001b[39mrecv(buflen, flags)\n",
      "File \u001b[0;32m~/miniconda3/envs/trading_explore/lib/python3.10/ssl.py:1132\u001b[0m, in \u001b[0;36mSSLSocket.read\u001b[0;34m(self, len, buffer)\u001b[0m\n\u001b[1;32m   1130\u001b[0m         \u001b[38;5;28;01mreturn\u001b[39;00m \u001b[38;5;28mself\u001b[39m\u001b[38;5;241m.\u001b[39m_sslobj\u001b[38;5;241m.\u001b[39mread(\u001b[38;5;28mlen\u001b[39m, buffer)\n\u001b[1;32m   1131\u001b[0m     \u001b[38;5;28;01melse\u001b[39;00m:\n\u001b[0;32m-> 1132\u001b[0m         \u001b[38;5;28;01mreturn\u001b[39;00m \u001b[38;5;28;43mself\u001b[39;49m\u001b[38;5;241;43m.\u001b[39;49m\u001b[43m_sslobj\u001b[49m\u001b[38;5;241;43m.\u001b[39;49m\u001b[43mread\u001b[49m\u001b[43m(\u001b[49m\u001b[38;5;28;43mlen\u001b[39;49m\u001b[43m)\u001b[49m\n\u001b[1;32m   1133\u001b[0m \u001b[38;5;28;01mexcept\u001b[39;00m SSLError \u001b[38;5;28;01mas\u001b[39;00m x:\n\u001b[1;32m   1134\u001b[0m     \u001b[38;5;28;01mif\u001b[39;00m x\u001b[38;5;241m.\u001b[39margs[\u001b[38;5;241m0\u001b[39m] \u001b[38;5;241m==\u001b[39m SSL_ERROR_EOF \u001b[38;5;129;01mand\u001b[39;00m \u001b[38;5;28mself\u001b[39m\u001b[38;5;241m.\u001b[39msuppress_ragged_eofs:\n",
      "\u001b[0;31mKeyboardInterrupt\u001b[0m: "
     ]
    }
   ],
   "source": [
    "while True:\n",
    "    res = ws.recv()\n",
    "    print(res)"
   ]
  },
  {
   "cell_type": "code",
   "execution_count": 14,
   "id": "e9c4068a-1570-4ec9-9817-f40cfc4b3463",
   "metadata": {},
   "outputs": [
    {
     "ename": "ImportError",
     "evalue": "cannot import name 'ManualInputConfig' from 'bytewax.inputs' (/Users/helenafu/miniconda3/envs/trading_explore/lib/python3.10/site-packages/bytewax/inputs.py)",
     "output_type": "error",
     "traceback": [
      "\u001b[0;31m---------------------------------------------------------------------------\u001b[0m",
      "\u001b[0;31mImportError\u001b[0m                               Traceback (most recent call last)",
      "Cell \u001b[0;32mIn[14], line 5\u001b[0m\n\u001b[1;32m      2\u001b[0m \u001b[38;5;28;01mimport\u001b[39;00m \u001b[38;5;21;01mjson\u001b[39;00m\n\u001b[1;32m      4\u001b[0m \u001b[38;5;28;01mfrom\u001b[39;00m \u001b[38;5;21;01mbytewax\u001b[39;00m\u001b[38;5;21;01m.\u001b[39;00m\u001b[38;5;21;01mdataflow\u001b[39;00m \u001b[38;5;28;01mimport\u001b[39;00m Dataflow\n\u001b[0;32m----> 5\u001b[0m \u001b[38;5;28;01mfrom\u001b[39;00m \u001b[38;5;21;01mbytewax\u001b[39;00m\u001b[38;5;21;01m.\u001b[39;00m\u001b[38;5;21;01minputs\u001b[39;00m \u001b[38;5;28;01mimport\u001b[39;00m ManualInputConfig, distribute\n\u001b[1;32m      8\u001b[0m \u001b[38;5;28;01mfrom\u001b[39;00m \u001b[38;5;21;01mwebsocket\u001b[39;00m \u001b[38;5;28;01mimport\u001b[39;00m create_connection\n\u001b[1;32m     10\u001b[0m \u001b[38;5;66;03m## input\u001b[39;00m\n",
      "\u001b[0;31mImportError\u001b[0m: cannot import name 'ManualInputConfig' from 'bytewax.inputs' (/Users/helenafu/miniconda3/envs/trading_explore/lib/python3.10/site-packages/bytewax/inputs.py)"
     ]
    }
   ],
   "source": [
    "import base64\n",
    "import json\n",
    "\n",
    "from bytewax.dataflow import Dataflow\n",
    "from bytewax.inputs import ManualInputConfig, distribute\n",
    "\n",
    "\n",
    "from websocket import create_connection\n",
    "\n",
    "## input\n",
    "ticker_list = ['AMZN', 'MSFT']\n",
    "\n",
    "def yf_input(worker_tickers, state):\n",
    "        ws = create_connection(\"wss://streamer.finance.yahoo.com/\")\n",
    "        ws.send(json.dumps({\"subscribe\": worker_tickers}))\n",
    "        while True:\n",
    "            yield state, ws.recv()\n",
    "\n",
    "\n",
    "def input_builder(worker_index, worker_count, resume_state):\n",
    "    state = resume_state or None\n",
    "    worker_tickers = list(distribute(ticker_list, worker_index, worker_count))\n",
    "    print({\"subscribing to\": worker_tickers})\n",
    "    return yf_input(worker_tickers, state)\n",
    "\n",
    "\n",
    "flow = Dataflow()\n",
    "flow.input(\"input\", ManualInputConfig(input_builder))"
   ]
  },
  {
   "cell_type": "code",
   "execution_count": null,
   "id": "4d51b227-d324-4351-b9e8-809cbd41b846",
   "metadata": {},
   "outputs": [],
   "source": [
    "from ticker_pb2 import Ticker\n",
    "\n",
    "\n",
    "def deserialize(message):\n",
    "    '''Use the imported Ticker class to deserialize \n",
    "    the protobuf message\n",
    "\n",
    "    returns: ticker id and ticker object\n",
    "    '''\n",
    "    ticker_ = Ticker()\n",
    "    message_bytes = base64.b64decode(message)\n",
    "    ticker_.ParseFromString(message_bytes)\n",
    "    return (ticker_.id, ticker_)\n",
    "    \n",
    "flow.map(deserialize)"
   ]
  }
 ],
 "metadata": {
  "kernelspec": {
   "display_name": "Python 3 (ipykernel)",
   "language": "python",
   "name": "python3"
  },
  "language_info": {
   "codemirror_mode": {
    "name": "ipython",
    "version": 3
   },
   "file_extension": ".py",
   "mimetype": "text/x-python",
   "name": "python",
   "nbconvert_exporter": "python",
   "pygments_lexer": "ipython3",
   "version": "3.10.8"
  }
 },
 "nbformat": 4,
 "nbformat_minor": 5
}
