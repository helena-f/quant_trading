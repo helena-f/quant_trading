{
 "cells": [
  {
   "cell_type": "code",
   "execution_count": 1,
   "id": "8a2fdf11-db23-47d4-9ea7-b4191d65b0a8",
   "metadata": {},
   "outputs": [],
   "source": [
    "from websocket import create_connection\n",
    "import json\n",
    "import pandas as pd\n",
    "\n",
    "socket = \"wss://data.tradingview.com/socket.io/websocket\"\n",
    "ws = create_connection(socket)"
   ]
  },
  {
   "cell_type": "code",
   "execution_count": 2,
   "id": "9368eab2-2d85-4094-8d51-ee9a1a08e42e",
   "metadata": {},
   "outputs": [],
   "source": [
    "def create_msg(fun, arg):\n",
    "    ms = json.dumps({\"m\": fun, \"p\": arg})\n",
    "    msg = \"~m~\" + str(len(ms)) + \"~m~\" + ms\n",
    "    print(msg)"
   ]
  },
  {
   "cell_type": "code",
   "execution_count": 3,
   "id": "d40ae2b9-568b-4101-9c8e-325c104deb73",
   "metadata": {},
   "outputs": [
    {
     "name": "stdout",
     "output_type": "stream",
     "text": [
      "~m~59~m~{\"m\": \"chart_create_session\", \"p\": [\"cs_Z8lZUkSJ1hd0\", \"\"]}\n",
      "~m~164~m~{\"m\": \"resolve_symbol\", \"p\": [\"cs_Z8lZUkSJ1hd0\", \"sds_sym_1\", \"={\\\"adjustment\\\":\\\"splits\\\",\\\"currency-id\\\":\\\"USD\\\",\\\"symbol\\\":\\\"NYMEX:CL1!\\\",\\\"unit-id\\\":\\\"BLL\\\"}\"]}\n",
      "~m~90~m~{\"m\": \"create_series\", \"p\": [\"cs_Z8lZUkSJ1hd0\", \"sds_1\", \"s1\", \"sds_sym_1\", \"D\", 300, \"\"]}\n"
     ]
    }
   ],
   "source": [
    "create_msg(\"chart_create_session\", [\"cs_Z8lZUkSJ1hd0\", \"\"])\n",
    "create_msg(\"resolve_symbol\", [\"cs_Z8lZUkSJ1hd0\",\"sds_sym_1\",\"={\\\"adjustment\\\":\\\"splits\\\",\\\"currency-id\\\":\\\"USD\\\",\\\"symbol\\\":\\\"NYMEX:CL1!\\\",\\\"unit-id\\\":\\\"BLL\\\"}\"])\n",
    "create_msg(\"create_series\", [\"cs_Z8lZUkSJ1hd0\",\"sds_1\",\"s1\",\"sds_sym_1\",\"D\",300,\"\"])"
   ]
  },
  {
   "cell_type": "code",
   "execution_count": 4,
   "id": "3b7c5a3e-06cd-412b-ae40-a48ed536d561",
   "metadata": {},
   "outputs": [],
   "source": [
    "# while True:\n",
    "#     res = ws.recv()\n",
    "#     print(res)"
   ]
  },
  {
   "cell_type": "code",
   "execution_count": 5,
   "id": "e9c4068a-1570-4ec9-9817-f40cfc4b3463",
   "metadata": {},
   "outputs": [
    {
     "ename": "ImportError",
     "evalue": "cannot import name 'ManualInputConfig' from 'bytewax.inputs' (/Users/helenafu/miniconda3/envs/trading_explore/lib/python3.10/site-packages/bytewax/inputs.py)",
     "output_type": "error",
     "traceback": [
      "\u001b[0;31m---------------------------------------------------------------------------\u001b[0m",
      "\u001b[0;31mImportError\u001b[0m                               Traceback (most recent call last)",
      "Cell \u001b[0;32mIn[5], line 5\u001b[0m\n\u001b[1;32m      2\u001b[0m \u001b[38;5;28;01mimport\u001b[39;00m \u001b[38;5;21;01mjson\u001b[39;00m\n\u001b[1;32m      4\u001b[0m \u001b[38;5;28;01mfrom\u001b[39;00m \u001b[38;5;21;01mbytewax\u001b[39;00m\u001b[38;5;21;01m.\u001b[39;00m\u001b[38;5;21;01mdataflow\u001b[39;00m \u001b[38;5;28;01mimport\u001b[39;00m Dataflow\n\u001b[0;32m----> 5\u001b[0m \u001b[38;5;28;01mfrom\u001b[39;00m \u001b[38;5;21;01mbytewax\u001b[39;00m\u001b[38;5;21;01m.\u001b[39;00m\u001b[38;5;21;01minputs\u001b[39;00m \u001b[38;5;28;01mimport\u001b[39;00m ManualInputConfig, distribute\n\u001b[1;32m      8\u001b[0m \u001b[38;5;28;01mfrom\u001b[39;00m \u001b[38;5;21;01mwebsocket\u001b[39;00m \u001b[38;5;28;01mimport\u001b[39;00m create_connection\n\u001b[1;32m     10\u001b[0m \u001b[38;5;66;03m## input\u001b[39;00m\n",
      "\u001b[0;31mImportError\u001b[0m: cannot import name 'ManualInputConfig' from 'bytewax.inputs' (/Users/helenafu/miniconda3/envs/trading_explore/lib/python3.10/site-packages/bytewax/inputs.py)"
     ]
    }
   ],
   "source": [
    "import base64\n",
    "import json\n",
    "\n",
    "from bytewax.dataflow import Dataflow\n",
    "from bytewax.inputs import ManualInputConfig, distribute\n",
    "\n",
    "\n",
    "from websocket import create_connection\n",
    "\n",
    "## input\n",
    "ticker_list = ['AMZN', 'MSFT']\n",
    "\n",
    "def yf_input(worker_tickers, state):\n",
    "        ws = create_connection(\"wss://streamer.finance.yahoo.com/\")\n",
    "        ws.send(json.dumps({\"subscribe\": worker_tickers}))\n",
    "        while True:\n",
    "            yield state, ws.recv()\n",
    "\n",
    "\n",
    "def input_builder(worker_index, worker_count, resume_state):\n",
    "    state = resume_state or None\n",
    "    worker_tickers = list(distribute(ticker_list, worker_index, worker_count))\n",
    "    print({\"subscribing to\": worker_tickers})\n",
    "    return yf_input(worker_tickers, state)\n",
    "\n",
    "\n",
    "flow = Dataflow()\n",
    "flow.input(\"input\", ManualInputConfig(input_builder))"
   ]
  },
  {
   "cell_type": "code",
   "execution_count": null,
   "id": "4d51b227-d324-4351-b9e8-809cbd41b846",
   "metadata": {},
   "outputs": [],
   "source": [
    "from ticker_pb2 import Ticker\n",
    "\n",
    "\n",
    "def deserialize(message):\n",
    "    '''Use the imported Ticker class to deserialize \n",
    "    the protobuf message\n",
    "\n",
    "    returns: ticker id and ticker object\n",
    "    '''\n",
    "    ticker_ = Ticker()\n",
    "    message_bytes = base64.b64decode(message)\n",
    "    ticker_.ParseFromString(message_bytes)\n",
    "    return (ticker_.id, ticker_)\n",
    "    \n",
    "flow.map(deserialize)"
   ]
  }
 ],
 "metadata": {
  "kernelspec": {
   "display_name": "Python 3 (ipykernel)",
   "language": "python",
   "name": "python3"
  },
  "language_info": {
   "codemirror_mode": {
    "name": "ipython",
    "version": 3
   },
   "file_extension": ".py",
   "mimetype": "text/x-python",
   "name": "python",
   "nbconvert_exporter": "python",
   "pygments_lexer": "ipython3",
   "version": "3.10.8"
  }
 },
 "nbformat": 4,
 "nbformat_minor": 5
}
