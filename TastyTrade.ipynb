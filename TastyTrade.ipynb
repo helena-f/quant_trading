{
 "cells": [
  {
   "cell_type": "code",
   "execution_count": 1,
   "id": "a2903579-c92a-43e3-9129-77e4742dac11",
   "metadata": {},
   "outputs": [
    {
     "ename": "NameError",
     "evalue": "name 'username' is not defined",
     "output_type": "error",
     "traceback": [
      "\u001b[0;31m---------------------------------------------------------------------------\u001b[0m",
      "\u001b[0;31mNameError\u001b[0m                                 Traceback (most recent call last)",
      "Cell \u001b[0;32mIn[1], line 3\u001b[0m\n\u001b[1;32m      1\u001b[0m \u001b[38;5;28;01mfrom\u001b[39;00m \u001b[38;5;21;01mtastytrade\u001b[39;00m \u001b[38;5;28;01mimport\u001b[39;00m Session\n\u001b[1;32m      2\u001b[0m \u001b[38;5;28;01mimport\u001b[39;00m \u001b[38;5;21;01mcredentials\u001b[39;00m\n\u001b[0;32m----> 3\u001b[0m session \u001b[38;5;241m=\u001b[39m Session(\u001b[43musername\u001b[49m, password)\n",
      "\u001b[0;31mNameError\u001b[0m: name 'username' is not defined"
     ]
    }
   ],
   "source": [
    "from tastytrade import Session\n",
    "import credentials\n",
    "session = Session(username, password)"
   ]
  },
  {
   "cell_type": "code",
   "execution_count": null,
   "id": "f930e35d-10aa-4dc3-af82-2e1d80ed6d08",
   "metadata": {},
   "outputs": [],
   "source": []
  }
 ],
 "metadata": {
  "kernelspec": {
   "display_name": "Python 3 (ipykernel)",
   "language": "python",
   "name": "python3"
  },
  "language_info": {
   "codemirror_mode": {
    "name": "ipython",
    "version": 3
   },
   "file_extension": ".py",
   "mimetype": "text/x-python",
   "name": "python",
   "nbconvert_exporter": "python",
   "pygments_lexer": "ipython3",
   "version": "3.10.12"
  }
 },
 "nbformat": 4,
 "nbformat_minor": 5
}
